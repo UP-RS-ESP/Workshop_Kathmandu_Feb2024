{
 "cells": [
  {
   "cell_type": "markdown",
   "id": "d4b65aac",
   "metadata": {},
   "source": [
    "# Exercise 3 - Creating Useful Visualizations and Consistent Reports\n",
    "\n",
    "In this exercise, we will focus on creating nice visualizations that can be used in reports. We will also show how the code you develop here can be compressed into a small file that you can run at regular intervals to update the reports (e.g., to download a map every day or every week).\n",
    "\n",
    "We will first look at time series data, and then add a map. This would be useful to chart the amount of rainfall over a certain time period, as well as visualize it on a map. \n",
    "\n",
    "Let's start by adding some python modules:"
   ]
  },
  {
   "cell_type": "code",
   "execution_count": null,
   "id": "8d173e5e",
   "metadata": {},
   "outputs": [],
   "source": [
    "import numpy as np\n",
    "import matplotlib.pyplot as plt\n",
    "import geopandas as gpd\n",
    "import cartopy\n",
    "import cartopy.crs as ccrs\n",
    "import datetime\n",
    "from shapely.geometry import mapping"
   ]
  },
  {
   "cell_type": "markdown",
   "id": "0224a474",
   "metadata": {},
   "source": [
    "We can get data straight from Google Earth Engine, like we did earlier in the day:"
   ]
  },
  {
   "cell_type": "code",
   "execution_count": null,
   "id": "869385ee",
   "metadata": {},
   "outputs": [],
   "source": [
    "import ee\n",
    "#The first time you use the earthengine module, you need to link your account credentials. Afterwards, your\n",
    "#computer stores the authentication file\n",
    "\n",
    "#ee.Authenticate()\n",
    "\n",
    "ee.Initialize()\n",
    "print(ee.__version__)"
   ]
  },
  {
   "cell_type": "code",
   "execution_count": null,
   "id": "d74bdcf3",
   "metadata": {},
   "outputs": [],
   "source": [
    "dem = ee.Image('USGS/SRTMGL1_003') #Load in the global SRTM elevation data set\n",
    "langtang = ee.Geometry.Point([85.51593, 28.21618]) \n",
    "elev = dem.sample(langtang, 30).first().get('elevation').getInfo() #Sample the data set at that point\n",
    "print('Langtang elevation (m):', elev) #Print the result"
   ]
  },
  {
   "cell_type": "code",
   "execution_count": null,
   "id": "e9d08d48",
   "metadata": {},
   "outputs": [],
   "source": [
    "def create_data(data, variable, location):\n",
    "    name = 'x'\n",
    "    def create_time_series(data, variable, name):\n",
    "        def create_(image):\n",
    "            date = image.get('system:time_start')\n",
    "            value = image.reduceRegion(reducer=ee.Reducer.mean(), geometry=location).get(variable)\n",
    "            ft = ee.Feature(None, {'date': ee.Date(date).format('Y/M/d-H:m:s'), name: value})\n",
    "            return ft\n",
    "        return data.map(create_).getInfo()\n",
    "    \n",
    "    time_series = create_time_series(data, variable, name)\n",
    "    \n",
    "    dates, datas = [], []\n",
    "    for f in time_series['features']:\n",
    "        properties = f['properties']\n",
    "        date = properties['date']\n",
    "        try:\n",
    "            val = properties[name]\n",
    "            datas.append(val)\n",
    "            dates.append(datetime.datetime.strptime(date,'%Y/%m/%d-%H:%M:%S')) #Convert the date into something that Python recognizes\n",
    "        except:\n",
    "            pass\n",
    "    return np.array(dates), np.array(datas)"
   ]
  },
  {
   "cell_type": "code",
   "execution_count": null,
   "id": "7a573d1c",
   "metadata": {},
   "outputs": [],
   "source": [
    "rainfall = ee.ImageCollection(\"UCSB-CHG/CHIRPS/DAILY\").filterDate('2022-01-01', '2024-03-01') #Last two years\n",
    "rdates, rain = create_data(rainfall, 'precipitation', langtang)\n",
    "print(rain)"
   ]
  },
  {
   "cell_type": "markdown",
   "id": "c15de668",
   "metadata": {},
   "source": [
    "## Plotting Time Series Data\n",
    "\n",
    "Let's look a little bit more closely at how we make plots. There are many different options for making nice visualizations with python, depending on what kind of data you want to plot. We can of course first make a very basic plot with just the data:"
   ]
  },
  {
   "cell_type": "code",
   "execution_count": null,
   "id": "c364dc20",
   "metadata": {},
   "outputs": [],
   "source": [
    "plt.plot(rdates, rain)"
   ]
  },
  {
   "cell_type": "markdown",
   "id": "cb94616b",
   "metadata": {},
   "source": [
    "This works, but leaves the data floating in space. Let's start making some changes to the size of the chart, the labels, and the way that the data is symbolized:"
   ]
  },
  {
   "cell_type": "code",
   "execution_count": null,
   "id": "6c141a97",
   "metadata": {},
   "outputs": [],
   "source": [
    "f, ax = plt.subplots(1, figsize=(10,5)) #This is where we control the size of the Figure we want to make\n",
    "ax.plot(rdates, rain)\n",
    "ax.set_ylim(ymin=0) #Set the minimum y-value to 0\n",
    "ax.set_xlim(rdates[0], rdates[-1]) #Make the plot only go to the first and last date in our data"
   ]
  },
  {
   "cell_type": "markdown",
   "id": "08e457d2",
   "metadata": {},
   "source": [
    "This already looks a bit clearer. Now let's add some lablels, and increase the size of the text:"
   ]
  },
  {
   "cell_type": "code",
   "execution_count": null,
   "id": "92f8ea20",
   "metadata": {},
   "outputs": [],
   "source": [
    "f, ax = plt.subplots(1, figsize=(10,5)) #This is where we control the size of the Figure we want to make\n",
    "ax.plot(rdates, rain)\n",
    "ax.set_ylim(ymin=0) #Set the minimum y-value to 0\n",
    "ax.set_xlim(rdates[0], rdates[-1]) #Make the plot only go to the first and last date in our data\n",
    "\n",
    "ax.set_xlabel('Date', fontsize=18, fontweight='bold') #Increase the size of the axis labels\n",
    "ax.set_ylabel('Precipitation Sum (mm)', fontsize=18, fontweight='bold')\n",
    "\n",
    "ax.tick_params(axis='both', which='major', labelsize=16) #Make the labels bigger\n",
    "ax.tick_params(axis='x', which='major', rotation=45) #Rotate the x-labels so they are clearer"
   ]
  },
  {
   "cell_type": "markdown",
   "id": "d2a4462b",
   "metadata": {},
   "source": [
    "Let's also add markers on the actual rainfall points to make the lines easier to see:"
   ]
  },
  {
   "cell_type": "code",
   "execution_count": null,
   "id": "5780030b",
   "metadata": {},
   "outputs": [],
   "source": [
    "f, ax = plt.subplots(1, figsize=(10,5)) #This is where we control the size of the Figure we want to make\n",
    "ax.plot(rdates, rain)\n",
    "ax.set_ylim(ymin=0) #Set the minimum y-value to 0\n",
    "ax.set_xlim(rdates[0], rdates[-1]) #Make the plot only go to the first and last date in our data\n",
    "\n",
    "ax.set_xlabel('Date', fontsize=18, fontweight='bold') #Increase the size of the axis labels\n",
    "ax.set_ylabel('Precipitation Sum (mm)', fontsize=18, fontweight='bold')\n",
    "\n",
    "ax.tick_params(axis='both', which='major', labelsize=16) #Make the labels bigger\n",
    "ax.tick_params(axis='x', which='major', rotation=45) #Rotate the x-labels so they are clearer\n",
    "\n",
    "ax.plot(rdates[rain != 0], rain[rain != 0], 'rx', markersize=8, label='Rainfall') #Only plot non-zero days\n",
    "ax.legend() #Add a legend for easy reference"
   ]
  },
  {
   "cell_type": "markdown",
   "id": "fa447d54",
   "metadata": {},
   "source": [
    "Finally, let's add a title and gridlines:"
   ]
  },
  {
   "cell_type": "code",
   "execution_count": null,
   "id": "d7e18c23",
   "metadata": {},
   "outputs": [],
   "source": [
    "f, ax = plt.subplots(1, figsize=(10,5)) #This is where we control the size of the Figure we want to make\n",
    "ax.plot(rdates, rain)\n",
    "ax.set_ylim(ymin=0) #Set the minimum y-value to 0\n",
    "ax.set_xlim(rdates[0], rdates[-1]) #Make the plot only go to the first and last date in our data\n",
    "\n",
    "ax.set_xlabel('Date', fontsize=18, fontweight='bold') #Increase the size of the axis labels\n",
    "ax.set_ylabel('Precipitation Sum (mm)', fontsize=18, fontweight='bold')\n",
    "\n",
    "ax.tick_params(axis='both', which='major', labelsize=16) #Make the labels bigger\n",
    "ax.tick_params(axis='x', which='major', rotation=45) #Rotate the x-labels so they are clearer\n",
    "\n",
    "ax.plot(rdates[rain != 0], rain[rain != 0], 'rx', markersize=8, label='Rainfall') #Only plot non-zero days\n",
    "ax.legend() #Add a legend for easy reference\n",
    "\n",
    "ax.set_title('Langtang Rainfall, 2022-2024', fontsize=20, fontweight='bold') #Add a title\n",
    "ax.grid(True) #Add a grid"
   ]
  },
  {
   "cell_type": "markdown",
   "id": "e280c8e9",
   "metadata": {},
   "source": [
    "If I compare this to my original image, this is much clearer! The first image would not be very helpful in a report, as it doesn't give a lot of information directly. However, the second one clearly displays the rainfall data."
   ]
  },
  {
   "cell_type": "code",
   "execution_count": null,
   "id": "1bc112dc",
   "metadata": {},
   "outputs": [],
   "source": [
    "plt.plot(rdates, rain)"
   ]
  },
  {
   "cell_type": "markdown",
   "id": "4b96935a",
   "metadata": {},
   "source": [
    "## Plotting Geographic Data\n",
    "\n",
    "Let's use the same CHIRPS data to get a grid over our study area. We can quickly make an annual composite for 2023 over the Trishuli area:"
   ]
  },
  {
   "cell_type": "code",
   "execution_count": null,
   "id": "a0dcf775",
   "metadata": {},
   "outputs": [],
   "source": [
    "def run_export(image, crs, filename, scale, region, maxPixels=1e12, cloud_optimized=True):\n",
    "    task_config = {'fileNamePrefix': filename,'crs': crs,'scale': scale,'maxPixels': maxPixels, 'fileFormat': 'GeoTIFF', 'formatOptions': {'cloudOptimized': cloud_optimized}, 'region': region,}\n",
    "    task = ee.batch.Export.image.toDrive(image, filename, **task_config)\n",
    "    task.start()\n",
    "\n",
    "rainfall = ee.ImageCollection(\"UCSB-CHG/CHIRPS/DAILY\").filterDate('2023-01-01', '2023-12-31') #2023\n",
    "rainfall_sum = rainfall.reduce(ee.Reducer.sum())\n",
    "\n",
    "trishuli_outline = gpd.read_file('GeoData/Trishuli.geojson')\n",
    "area_of_interest = ee.Geometry.MultiPolygon(ee.List(mapping(trishuli_outline.geometry[0])['coordinates']))\n",
    "#run_export(rainfall_sum, 'epsg:4326', 'CHIRPS_2023_RainfallSum', scale=5566, region=area_of_interest)"
   ]
  },
  {
   "cell_type": "markdown",
   "id": "ccf5eff7",
   "metadata": {},
   "source": [
    "To read the image data into Python, we will use the _rasterio_ library:"
   ]
  },
  {
   "cell_type": "code",
   "execution_count": null,
   "id": "9ef28e25",
   "metadata": {},
   "outputs": [],
   "source": [
    "#from osgeo import gdal\n",
    "import rasterio\n",
    "src = rasterio.open('GeoData/CHIRPS_2023_RainfallSum.tif')\n",
    "grid_data = src.read(1)"
   ]
  },
  {
   "cell_type": "code",
   "execution_count": null,
   "id": "ead57155",
   "metadata": {},
   "outputs": [],
   "source": [
    "plt.imshow(grid_data)"
   ]
  },
  {
   "cell_type": "markdown",
   "id": "20ae2ddb",
   "metadata": {},
   "source": [
    "That is our rainfall grid for the area around Trishuli -- not very helpful when we just visualize it like that! We need to add some geographic context to make sure our visualization is useful. \n",
    "\n",
    "Let's start by making a geographic axis. We can add coastlines to make sure things are working properly:"
   ]
  },
  {
   "cell_type": "code",
   "execution_count": null,
   "id": "20c41d5c",
   "metadata": {},
   "outputs": [],
   "source": [
    "f = plt.figure(figsize=(10,10))\n",
    "ax = f.add_subplot(111, projection=ccrs.PlateCarree()) #Create a geographic axis\n",
    "ax.coastlines()"
   ]
  },
  {
   "cell_type": "markdown",
   "id": "689cd261",
   "metadata": {},
   "source": [
    "Now we want to plot both our image data (of rainfall) and our watershed outline to make it easier to see what we are looking at:"
   ]
  },
  {
   "cell_type": "code",
   "execution_count": null,
   "id": "baf6bdd2",
   "metadata": {},
   "outputs": [],
   "source": [
    "f = plt.figure(figsize=(10,10))\n",
    "ax = f.add_subplot(111, projection=ccrs.PlateCarree()) #Create a geographic axis\n",
    "ax.add_feature(cartopy.feature.BORDERS, linestyle='--')\n",
    "trishuli_outline.plot(ax=ax)"
   ]
  },
  {
   "cell_type": "code",
   "execution_count": null,
   "id": "627a1e76",
   "metadata": {},
   "outputs": [],
   "source": [
    "f = plt.figure(figsize=(10,10))\n",
    "ax = f.add_subplot(111, projection=ccrs.PlateCarree()) #Create a geographic axis\n",
    "ax.add_feature(cartopy.feature.BORDERS, linestyle='--')\n",
    "trishuli_outline.plot(ax=ax)\n",
    "\n",
    "left, bottom, right, top = src.bounds #Get the geographic boundaries of our grid data\n",
    "ax.set_extent([left - 0.1, right + 0.1, bottom - 0.1, top + 0.1], crs=ccrs.PlateCarree())\n",
    "ax.imshow(grid_data, extent=(left, right, bottom, top))\n",
    "\n",
    "#Add in a grid so we can locate ourselves\n",
    "gl = ax.gridlines(crs=ccrs.PlateCarree(), linewidth=1, color='black', alpha=0.5, linestyle='--', draw_labels=True)\n",
    "gl.top_labels = False\n",
    "gl.right_labels = False"
   ]
  },
  {
   "cell_type": "code",
   "execution_count": null,
   "id": "5fd51340",
   "metadata": {},
   "outputs": [],
   "source": [
    "f = plt.figure(figsize=(10,10))\n",
    "ax = f.add_subplot(111, projection=ccrs.PlateCarree()) #Create a geographic axis\n",
    "ax.add_feature(cartopy.feature.BORDERS, linestyle='--')\n",
    "trishuli_outline.plot(ax=ax, facecolor='none', edgecolor='blue', linewidth=2)\n",
    "\n",
    "left, bottom, right, top = src.bounds #Get the geographic boundaries of our grid data\n",
    "ax.set_extent([left - 0.1, right + 0.1, bottom - 0.1, top + 0.1], crs=ccrs.PlateCarree())\n",
    "ax.imshow(grid_data, extent=(left, right, bottom, top))\n",
    "\n",
    "#Add in a grid so we can locate ourselves\n",
    "gl = ax.gridlines(crs=ccrs.PlateCarree(), linewidth=1, color='black', alpha=0.5, linestyle='--', draw_labels=True)\n",
    "gl.top_labels = False\n",
    "gl.right_labels = False"
   ]
  },
  {
   "cell_type": "markdown",
   "id": "f229ad73",
   "metadata": {},
   "source": [
    "This is looking pretty good! We want to add one more piece, however -- a color legend so we know what the data we are looking at represents. "
   ]
  },
  {
   "cell_type": "code",
   "execution_count": null,
   "id": "680c44f9",
   "metadata": {},
   "outputs": [],
   "source": [
    "f = plt.figure(figsize=(10,10))\n",
    "ax = f.add_subplot(111, projection=ccrs.PlateCarree()) #Create a geographic axis\n",
    "ax.add_feature(cartopy.feature.BORDERS, linestyle='--')\n",
    "trishuli_outline.plot(ax=ax, facecolor='none', edgecolor='blue', linewidth=2)\n",
    "\n",
    "left, bottom, right, top = src.bounds #Get the geographic boundaries of our grid data\n",
    "ax.set_extent([left - 0.1, right + 0.1, bottom - 0.1, top + 0.1], crs=ccrs.PlateCarree())\n",
    "\n",
    "#Add in the colormap\n",
    "color = ax.imshow(grid_data, extent=(left, right, bottom, top))\n",
    "cbar = plt.colorbar(color, ax=ax)\n",
    "cbar.set_label('2023 Precipitation Sum (mm)', fontsize=18, fontweight='bold')\n",
    "\n",
    "#Add in a grid so we can locate ourselves\n",
    "gl = ax.gridlines(crs=ccrs.PlateCarree(), linewidth=1, color='black', alpha=0.5, linestyle='--', draw_labels=True)\n",
    "gl.top_labels = False\n",
    "gl.right_labels = False\n",
    "\n",
    "ax.set_title('2023 Precipitation Sum, Trishuli', fontsize=24, fontweight='bold')"
   ]
  },
  {
   "cell_type": "markdown",
   "id": "23ff98b0",
   "metadata": {},
   "source": [
    "This looks pretty nice! We could export some data and make a nice figure with it in a rather short time. \n",
    "\n",
    "## Combining Both Data Types\n",
    "\n",
    "Let's combine both of these approaches (map and chart) into one small package. I will change the time series to reflect the precipitation sum for the whole Trishuli, so we get a nice picture of the distribution of rainfall in both time (chart) and space (map)."
   ]
  },
  {
   "cell_type": "code",
   "execution_count": null,
   "id": "abc4e326",
   "metadata": {},
   "outputs": [],
   "source": [
    "rainfall = ee.ImageCollection(\"UCSB-CHG/CHIRPS/DAILY\").filterDate('2023-01-01', '2023-12-31')\n",
    "rdates, rain = create_data(rainfall, 'precipitation', area_of_interest)"
   ]
  },
  {
   "cell_type": "code",
   "execution_count": null,
   "id": "e8982618",
   "metadata": {},
   "outputs": [],
   "source": [
    "f = plt.figure(figsize=(25,10))\n",
    "\n",
    "#First do the map:\n",
    "ax = f.add_subplot(121, projection=ccrs.PlateCarree()) #Create a geographic axis\n",
    "ax.add_feature(cartopy.feature.BORDERS, linestyle='--')\n",
    "trishuli_outline.plot(ax=ax, facecolor='none', edgecolor='blue', linewidth=2)\n",
    "\n",
    "left, bottom, right, top = src.bounds #Get the geographic boundaries of our grid data\n",
    "ax.set_extent([left - 0.1, right + 0.1, bottom - 0.1, top + 0.1], crs=ccrs.PlateCarree())\n",
    "\n",
    "#Add in the colormap\n",
    "color = ax.imshow(grid_data, extent=(left, right, bottom, top))\n",
    "cbar = plt.colorbar(color, ax=ax)\n",
    "cbar.set_label('2023 Precipitation Sum (mm)', fontsize=18, fontweight='bold')\n",
    "\n",
    "#Add in a grid so we can locate ourselves\n",
    "gl = ax.gridlines(crs=ccrs.PlateCarree(), linewidth=1, color='black', alpha=0.5, linestyle='--', draw_labels=True)\n",
    "gl.top_labels = False\n",
    "gl.right_labels = False\n",
    "\n",
    "ax.set_title('2023 Precipitation Sum, Trishuli', fontsize=24, fontweight='bold')\n",
    "\n",
    "#Then add the chart\n",
    "ax = f.add_subplot(122)\n",
    "ax.plot(rdates, rain)\n",
    "ax.set_ylim(ymin=0) #Set the minimum y-value to 0\n",
    "ax.set_xlim(rdates[0], rdates[-1]) #Make the plot only go to the first and last date in our data\n",
    "\n",
    "ax.set_xlabel('Date', fontsize=18, fontweight='bold') #Increase the size of the axis labels\n",
    "ax.set_ylabel('Daily Precipitation (mm)', fontsize=18, fontweight='bold')\n",
    "\n",
    "ax.tick_params(axis='both', which='major', labelsize=16) #Make the labels bigger\n",
    "ax.tick_params(axis='x', which='major', rotation=45) #Rotate the x-labels so they are clearer\n",
    "\n",
    "ax.plot(rdates[rain != 0], rain[rain != 0], 'rx', markersize=8, label='Rainfall') #Only plot non-zero days\n",
    "ax.legend() #Add a legend for easy reference\n",
    "\n",
    "ax.set_title('Trishuli Rainfall, 2023', fontsize=20, fontweight='bold') #Add a title\n",
    "ax.grid(True) #Add a grid"
   ]
  },
  {
   "cell_type": "markdown",
   "id": "e9b79792",
   "metadata": {},
   "source": [
    "Now we have quite a nice little graphic to add to a report about rainfall patterns. It would be easy to modify this to use other data, or to have a longer time period -- you can use the same commands for downloading data and making these simple charts. "
   ]
  },
  {
   "cell_type": "markdown",
   "id": "371d78a0",
   "metadata": {},
   "source": [
    "## Making Consistent Reports\n",
    "\n",
    "There are many reports that would be useful to get on a weekly basis -- for example, snow cover over the last week, recent rainfall, etc. It is possible to use the same basic code we have just developed in a short package that will save data for you. \n",
    "\n",
    "This is particularly easy to do with time series, since we can acquire the data directly. It is also possible to do with gridded data, if you can install Google Drive on your compuater. In this case, any files you make in Google Earth Engine would then be available on your computer for plotting.\n",
    "\n",
    "Let's set up a simple example with high-frequency rainfall data over Trishuli. We will use GPM data [https://developers.google.com/earth-engine/datasets/catalog/NASA_GPM_L3_IMERG_V06#bands](https://developers.google.com/earth-engine/datasets/catalog/NASA_GPM_L3_IMERG_V06#bands), as it is low-latency -- we can get data from 24 hours ago. "
   ]
  },
  {
   "cell_type": "code",
   "execution_count": null,
   "id": "f44da7f5",
   "metadata": {},
   "outputs": [],
   "source": [
    "def mask_(image):\n",
    "    mask = image.gt(0.5)\n",
    "    return image.updateMask(mask)\n",
    "\n",
    "#This data is in mm/hr: https://developers.google.com/earth-engine/datasets/catalog/NASA_GPM_L3_IMERG_V06#bands\n",
    "hr_rainfall = ee.ImageCollection(\"NASA/GPM_L3/IMERG_V06\").select('precipitationCal').filterDate('2024-02-01', '2024-03-01')\n",
    "hr_rainfall = hr_rainfall.map(mask_) #Remove low values"
   ]
  },
  {
   "cell_type": "code",
   "execution_count": null,
   "id": "80cfe0c1",
   "metadata": {},
   "outputs": [],
   "source": [
    "#Create the time series\n",
    "rdates, rain = create_data(hr_rainfall, 'precipitationCal', area_of_interest)"
   ]
  },
  {
   "cell_type": "code",
   "execution_count": null,
   "id": "710322f9",
   "metadata": {},
   "outputs": [],
   "source": [
    "#Create the grid\n",
    "rain_sum = hr_rainfall.reduce(ee.Reducer.sum())\n",
    "#run_export(rain_sum, 'epsg:4326', 'GPM_Feb2024_RainfallSum', scale=11132, region=area_of_interest)"
   ]
  },
  {
   "cell_type": "code",
   "execution_count": null,
   "id": "0d11c1e2",
   "metadata": {},
   "outputs": [],
   "source": [
    "#Load the new data\n",
    "import time, os\n",
    "src = rasterio.open('GeoData/GPM_Feb2024_RainfallSum.tif')\n",
    "#while not os.path.exists('/home/ttsmith/gdrive/GPM_Feb2024_RainfallSum.tif'):\n",
    "#    time.sleep(10)\n",
    "#src = rasterio.open('/home/ttsmith/gdrive/GPM_Feb2024_RainfallSum.tif')\n",
    "grid_data = src.read(1)\n",
    "\n",
    "#Make the plot\n",
    "f = plt.figure(figsize=(25,10))\n",
    "\n",
    "#First do the map:\n",
    "ax = f.add_subplot(121, projection=ccrs.PlateCarree()) #Create a geographic axis\n",
    "ax.add_feature(cartopy.feature.BORDERS, linestyle='--')\n",
    "trishuli_outline.plot(ax=ax, facecolor='none', edgecolor='blue', linewidth=2)\n",
    "\n",
    "left, bottom, right, top = src.bounds #Get the geographic boundaries of our grid data\n",
    "ax.set_extent([left - 0.1, right + 0.1, bottom - 0.1, top + 0.1], crs=ccrs.PlateCarree())\n",
    "\n",
    "#Add in the colormap\n",
    "color = ax.imshow(grid_data, extent=(left, right, bottom, top))\n",
    "cbar = plt.colorbar(color, ax=ax)\n",
    "cbar.set_label('Feb 2024 Precipitation Sum (mm)', fontsize=18, fontweight='bold')\n",
    "\n",
    "#Add in a grid so we can locate ourselves\n",
    "gl = ax.gridlines(crs=ccrs.PlateCarree(), linewidth=1, color='black', alpha=0.5, linestyle='--', draw_labels=True)\n",
    "gl.top_labels = False\n",
    "gl.right_labels = False\n",
    "\n",
    "ax.set_title('Feb 2024 Precipitation Sum, Trishuli', fontsize=24, fontweight='bold')\n",
    "\n",
    "#Then add the chart\n",
    "ax = f.add_subplot(122)\n",
    "ax.plot(rdates, rain)\n",
    "ax.set_ylim(ymin=0) #Set the minimum y-value to 0\n",
    "ax.set_xlim(rdates[0], rdates[-1]) #Make the plot only go to the first and last date in our data\n",
    "\n",
    "ax.set_xlabel('Date', fontsize=18, fontweight='bold') #Increase the size of the axis labels\n",
    "ax.set_ylabel('Daily Precipitation (mm)', fontsize=18, fontweight='bold')\n",
    "\n",
    "ax.tick_params(axis='both', which='major', labelsize=16) #Make the labels bigger\n",
    "ax.tick_params(axis='x', which='major', rotation=45) #Rotate the x-labels so they are clearer\n",
    "\n",
    "ax.plot(rdates[rain != 0], rain[rain != 0], 'rx', markersize=8, label='Rainfall') #Only plot non-zero days\n",
    "ax.legend() #Add a legend for easy reference\n",
    "\n",
    "ax.set_title('Trishuli Rainfall, Feb 2024', fontsize=20, fontweight='bold') #Add a title\n",
    "ax.grid(True) #Add a grid"
   ]
  },
  {
   "cell_type": "markdown",
   "id": "ba9ad682",
   "metadata": {},
   "source": [
    "Since my Google Drive is linked to my computer, I can run this directly. This means that I can create a new figure just by changing a couple of parameters. For example, let's just extend this backwards in time by an additional month:"
   ]
  },
  {
   "cell_type": "code",
   "execution_count": null,
   "id": "c255d55a",
   "metadata": {},
   "outputs": [],
   "source": [
    "#Open the Google Earth Engine Data\n",
    "#This data is in mm/hr: https://developers.google.com/earth-engine/datasets/catalog/NASA_GPM_L3_IMERG_V06#bands\n",
    "hr_rainfall = ee.ImageCollection(\"NASA/GPM_L3/IMERG_V06\").select('precipitationCal').filterDate('2024-01-01', '2024-03-01')\n",
    "hr_rainfall = hr_rainfall.map(mask_) #Remove low values\n",
    "\n",
    "#Create the time series\n",
    "rdates, rain = create_data(hr_rainfall, 'precipitationCal', area_of_interest)\n",
    "\n",
    "#Create the grid\n",
    "rain_sum = hr_rainfall.reduce(ee.Reducer.sum())\n",
    "run_export(rain_sum, 'epsg:4326', 'GPM_JanFeb2024_RainfallSum', scale=11132, region=area_of_interest)\n",
    "\n",
    "#Load the new data\n",
    "import time, os\n",
    "src = rasterio.open('GeoData/GPM_JanFeb2024_RainfallSum.tif')\n",
    "#while not os.path.exists('/home/ttsmith/gdrive/GPM_JanFeb2024_RainfallSum.tif'):\n",
    "#    time.sleep(10)\n",
    "#src = rasterio.open('/home/ttsmith/gdrive/GPM_JanFeb2024_RainfallSum.tif')\n",
    "grid_data = src.read(1)\n",
    "\n",
    "#Make the plot\n",
    "f = plt.figure(figsize=(25,10))\n",
    "\n",
    "#First do the map:\n",
    "ax = f.add_subplot(121, projection=ccrs.PlateCarree()) #Create a geographic axis\n",
    "ax.add_feature(cartopy.feature.BORDERS, linestyle='--')\n",
    "trishuli_outline.plot(ax=ax, facecolor='none', edgecolor='blue', linewidth=2)\n",
    "\n",
    "left, bottom, right, top = src.bounds #Get the geographic boundaries of our grid data\n",
    "ax.set_extent([left - 0.1, right + 0.1, bottom - 0.1, top + 0.1], crs=ccrs.PlateCarree())\n",
    "\n",
    "#Add in the colormap\n",
    "color = ax.imshow(grid_data, extent=(left, right, bottom, top))\n",
    "cbar = plt.colorbar(color, ax=ax)\n",
    "cbar.set_label('Jan-Feb 2024 Precipitation Sum (mm)', fontsize=18, fontweight='bold')\n",
    "\n",
    "#Add in a grid so we can locate ourselves\n",
    "gl = ax.gridlines(crs=ccrs.PlateCarree(), linewidth=1, color='black', alpha=0.5, linestyle='--', draw_labels=True)\n",
    "gl.top_labels = False\n",
    "gl.right_labels = False\n",
    "\n",
    "ax.set_title('Jan-Feb 2024 Precipitation Sum, Trishuli', fontsize=24, fontweight='bold')\n",
    "\n",
    "#Then add the chart\n",
    "ax = f.add_subplot(122)\n",
    "ax.plot(rdates, rain)\n",
    "ax.set_ylim(ymin=0) #Set the minimum y-value to 0\n",
    "ax.set_xlim(rdates[0], rdates[-1]) #Make the plot only go to the first and last date in our data\n",
    "\n",
    "ax.set_xlabel('Date', fontsize=18, fontweight='bold') #Increase the size of the axis labels\n",
    "ax.set_ylabel('Daily Precipitation (mm)', fontsize=18, fontweight='bold')\n",
    "\n",
    "ax.tick_params(axis='both', which='major', labelsize=16) #Make the labels bigger\n",
    "ax.tick_params(axis='x', which='major', rotation=45) #Rotate the x-labels so they are clearer\n",
    "\n",
    "ax.plot(rdates[rain != 0], rain[rain != 0], 'rx', markersize=8, label='Rainfall') #Only plot non-zero days\n",
    "ax.legend() #Add a legend for easy reference\n",
    "\n",
    "ax.set_title('Trishuli Rainfall, Jan-Feb 2024', fontsize=20, fontweight='bold') #Add a title\n",
    "ax.grid(True) #Add a grid"
   ]
  },
  {
   "cell_type": "markdown",
   "id": "af53632c",
   "metadata": {},
   "source": [
    "## Further Information\n",
    "\n",
    "Once you are happy with how your figure looks, you can just change one feature -- for example, the date range, or the chosen area of interest -- and create the same figure without a lot of work! This can be a really nice way to create consistent graphics for reports or research. \n",
    "\n",
    "On the workshop github, we have provided the same code as a python function that you can run directly. This will generate the same graphic we have created here, but without the extra commentary. "
   ]
  }
 ],
 "metadata": {
  "kernelspec": {
   "display_name": "Python 3 (ipykernel)",
   "language": "python",
   "name": "python3"
  },
  "language_info": {
   "codemirror_mode": {
    "name": "ipython",
    "version": 3
   },
   "file_extension": ".py",
   "mimetype": "text/x-python",
   "name": "python",
   "nbconvert_exporter": "python",
   "pygments_lexer": "ipython3",
   "version": "3.11.6"
  }
 },
 "nbformat": 4,
 "nbformat_minor": 5
}
